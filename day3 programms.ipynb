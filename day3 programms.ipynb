{
 "cells": [
  {
   "cell_type": "code",
   "execution_count": 3,
   "metadata": {},
   "outputs": [
    {
     "name": "stdout",
     "output_type": "stream",
     "text": [
      "Enter a string: 4\n",
      "The reversed string is :\n",
      "4\n"
     ]
    }
   ],
   "source": [
    "a = input(\"Enter a string: \")\n",
    "reverse = a[::-1]\n",
    "print(\"The reversed string is :\")\n",
    "print(reverse)"
   ]
  },
  {
   "cell_type": "code",
   "execution_count": 7,
   "metadata": {},
   "outputs": [
    {
     "name": "stdout",
     "output_type": "stream",
     "text": [
      "Enter a string: 2\n",
      "All the permutation of given string is: 2\n"
     ]
    }
   ],
   "source": [
    "def permutation(List, String = \"\"):\n",
    "    Set = set(List)\n",
    "    stringList = []\n",
    "    if len(Set) == 1:\n",
    "        String += \"\".join(List)\n",
    "        return list([String])\n",
    "    for x in Set:\n",
    "        List1 = list(List)\n",
    "        S = String + x\n",
    "        List1.remove(x)\n",
    "        stringList.extend(permutation(List1, S))\n",
    "    return stringList\n",
    "\n",
    "string = input(\"Enter a string: \")\n",
    "List = permutation(list(string))\n",
    "print(\"All the permutation of given string is: \" + \", \".join(List))"
   ]
  },
  {
   "cell_type": "code",
   "execution_count": 8,
   "metadata": {},
   "outputs": [
    {
     "name": "stdout",
     "output_type": "stream",
     "text": [
      "Enter the string: 5\n",
      "String after removing the duplicates is: 5\n"
     ]
    }
   ],
   "source": [
    "def duplicate(string):\n",
    "    duplicateString = \"\"\n",
    "    for x in string:\n",
    "        if x not in duplicateString:\n",
    "            duplicateString += x\n",
    "    return duplicateString\n",
    "\n",
    "string = input(\"Enter the string: \")\n",
    "print(\"String after removing the duplicates is:\", duplicate(string))\n",
    "\n"
   ]
  },
  {
   "cell_type": "code",
   "execution_count": null,
   "metadata": {},
   "outputs": [
    {
     "name": "stdout",
     "output_type": "stream",
     "text": [
      "Enter the no of elements you want to add in List: 5882487\n",
      "Enter the element in List one by one\n",
      "5882487\n",
      "8\n",
      "8\n",
      "2\n",
      "4\n",
      "8\n",
      "7\n"
     ]
    }
   ],
   "source": [
    "def duplicate(List):\n",
    "    duplicateList = []\n",
    "    for x in List:\n",
    "        if x not in duplicateList:\n",
    "            duplicateList.append(x)\n",
    "    return duplicateList\n",
    "\n",
    "size = int(input(\"Enter the no of elements you want to add in List: \"))\n",
    "print(\"Enter the element in List one by one\")\n",
    "List = []\n",
    "for i in range(size):\n",
    "    List.append(input())"
   ]
  },
  {
   "cell_type": "code",
   "execution_count": null,
   "metadata": {},
   "outputs": [],
   "source": [
    "size1 = int(input(\"Enter the no of elements you want to enter in the List 1: \"))\n",
    "print(\"Enter the elements in List1 one by one\")\n",
    "list1 = []\n",
    "for i in range(size1):\n",
    "    list1.append(input())\n",
    "size2 = int(input(\"Enter the no of elements you want to enter in the List 2: \"))\n",
    "print(\"Enter the elements in List2 one by one\")\n",
    "list2 = []\n",
    "for i in range(size2):\n",
    "    list2.append(input())\n",
    "intersectionList = list(set(list1).intersection(set(list2)))\n",
    "print(\"The intersection of List 1 and List 2 is:\", \", \".join(intersectionList))"
   ]
  },
  {
   "cell_type": "code",
   "execution_count": null,
   "metadata": {},
   "outputs": [],
   "source": [
    "def Sum(List, size,sum):\n",
    "    sumList = []\n",
    "    if size == 1:\n",
    "        for x in List:\n",
    "            sumList.append(sum + x)\n",
    "        return sumList\n",
    "    L2 = list(List)\n",
    "    for x in List:\n",
    "        L2.remove(x)\n",
    "        sumList.extend(Sum(L2,size-1,sum + x))\n",
    "    return sumList\n",
    "\n",
    "def summation(List,size):\n",
    "    sumList = list(List)\n",
    "    for i in range (2, size + 1):\n",
    "        sumList.extend(Sum(List,i,0))\n",
    "    number = 1\n",
    "    while True:\n",
    "        if number not in sumList:\n",
    "            print(\"The least integer which is not present in the list and also cannot be represented as the summation of sub-elements is\",number)\n",
    "            break\n",
    "        number += 1\n",
    "\n",
    "size = int(input(\"Enter the no of elements you want to add in the list: \"))\n",
    "List = []\n",
    "print(\"Enter the elements in list one by one.\")\n",
    "for i in range(size):\n",
    "    List.append(int(input()))\n",
    "summation(List, size)"
   ]
  },
  {
   "cell_type": "code",
   "execution_count": null,
   "metadata": {},
   "outputs": [],
   "source": [
    "def Sum(List, size,sum):\n",
    "    sumList = []\n",
    "    if size == 1:\n",
    "        for x in List:\n",
    "            sumList.append(sum + x)\n",
    "        return sumList\n",
    "    L2 = list(List)\n",
    "    for x in List:\n",
    "        L2.remove(x)\n",
    "        sumList.extend(Sum(L2,size-1,sum + x))\n",
    "    return sumList\n",
    "\n",
    "def summation(List,size):\n",
    "    sumList = list(List)\n",
    "    for i in range (2, size + 1):\n",
    "        sumList.extend(Sum(List,i,0))\n",
    "    number = 1\n",
    "    while True:\n",
    "        if number not in sumList:\n",
    "            print(\"The least integer which is not present in the list and also cannot be represented as the summation of sub-elements is\",number)\n",
    "            break\n",
    "        number += 1\n",
    "\n",
    "size = int(input(\"Enter the no of elements you want to add in the list: \"))\n",
    "List = []\n",
    "print(\"Enter the elements in list one by one.\")\n",
    "for i in range(size):\n",
    "    List.append(int(input()))\n",
    "summation(List, size)\n"
   ]
  },
  {
   "cell_type": "code",
   "execution_count": null,
   "metadata": {},
   "outputs": [],
   "source": []
  }
 ],
 "metadata": {
  "kernelspec": {
   "display_name": "Python 3",
   "language": "python",
   "name": "python3"
  },
  "language_info": {
   "codemirror_mode": {
    "name": "ipython",
    "version": 3
   },
   "file_extension": ".py",
   "mimetype": "text/x-python",
   "name": "python",
   "nbconvert_exporter": "python",
   "pygments_lexer": "ipython3",
   "version": "3.7.3"
  }
 },
 "nbformat": 4,
 "nbformat_minor": 2
}
