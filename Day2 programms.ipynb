{
 "cells": [
  {
   "cell_type": "code",
   "execution_count": 2,
   "metadata": {},
   "outputs": [
    {
     "name": "stdout",
     "output_type": "stream",
     "text": [
      "Enter the number: 2\n",
      "2 is a prime number\n",
      "2 is an even number\n",
      "2 is a palindrom number\n"
     ]
    }
   ],
   "source": [
    "def isPrime(N):\n",
    "    a = 2\n",
    "    k = N // 2\n",
    "    while k >= a:\n",
    "        if N % a == 0:\n",
    "            return False\n",
    "        a += 1\n",
    "        k = N // a\n",
    "    return True\n",
    "\n",
    "def isPalindrom(n):\n",
    "    N = str(n)\n",
    "    L = len(N)\n",
    "    for i in range(L // 2):\n",
    "        if N[i] != N[L - 1 - i]:\n",
    "            return False\n",
    "    return True\n",
    "\n",
    "def isOdd(n):\n",
    "    if n % 2 == 0:\n",
    "        return False\n",
    "    return True\n",
    "\n",
    "def isArmstrong(num):\n",
    "    sum = 0  \n",
    "    temp = num  \n",
    "    while temp > 0:  \n",
    "        digit = temp % 10\n",
    "        sum += digit ** 3  \n",
    "        temp //= 10  \n",
    "    if num == sum:  \n",
    "        return True \n",
    "    return False\n",
    "\n",
    "def check():\n",
    "    number = int(input(\"Enter the number: \"))\n",
    "    if(isPrime(number)):\n",
    "        print(number, \"is a prime number\")\n",
    "    if(isOdd(number)):\n",
    "        print(number, \"is an odd number\")\n",
    "    else :\n",
    "        print(number, \"is an even number\")\n",
    "    if(isPalindrom(number)):\n",
    "        print(number, \"is a palindrom number\")\n",
    "    if(isArmstrong(number)):\n",
    "        print(number, \"is an armstrong number\")\n",
    "\n",
    "check()\n"
   ]
  },
  {
   "cell_type": "code",
   "execution_count": 3,
   "metadata": {},
   "outputs": [
    {
     "name": "stdout",
     "output_type": "stream",
     "text": [
      "Enter the value of N: 5\n",
      "The Fibonacci series upto 5 th number is following:\n",
      "0 1 1 2 3 "
     ]
    }
   ],
   "source": [
    "N = int(input(\"Enter the value of N: \"))\n",
    "a = 0\n",
    "b = 1\n",
    "print(\"The Fibonacci series upto\", N, \"th number is following:\")\n",
    "for i in range(N):\n",
    "    print(a, end = \" \")\n",
    "    c = a + b\n",
    "    a = b\n",
    "    b = c"
   ]
  },
  {
   "cell_type": "code",
   "execution_count": 5,
   "metadata": {},
   "outputs": [
    {
     "name": "stdout",
     "output_type": "stream",
     "text": [
      "Enter the value of N: 5\n",
      "*        *\n",
      " *      *\n",
      "  *    *\n",
      "   *  *\n",
      "    **\n",
      "    **\n",
      "   *  *\n",
      "  *    *\n",
      " *      *\n",
      "*        *\n"
     ]
    }
   ],
   "source": [
    "n = int(input(\"Enter the value of N: \"))\n",
    "for i in range(n):\n",
    "    print(\" \" * i + \"*\" + \"  \" * (n - 1 - i) + \"*\")\n",
    "for i in range(n):\n",
    "    print(\" \" * (n - 1 - i) + \"*\" + \"  \" * i + \"*\")\n",
    "    "
   ]
  },
  {
   "cell_type": "code",
   "execution_count": 6,
   "metadata": {},
   "outputs": [
    {
     "name": "stdout",
     "output_type": "stream",
     "text": [
      "Enter the Value of N: 5\n",
      "* * * * *  * * * * *\n",
      "* * * *      * * * *\n",
      "* * *          * * *\n",
      "* *              * *\n",
      "*                  *\n",
      "* *              * *\n",
      "* * *          * * *\n",
      "* * * *      * * * *\n",
      "* * * * *  * * * * *\n"
     ]
    }
   ],
   "source": [
    "n = int(input(\"Enter the Value of N: \"))\n",
    "for i in range(n):\n",
    "    print(\"* \" * (n - i) + \"    \" * i + \" *\" * (n - i))\n",
    "for i in range(2,n + 1):\n",
    "    print(\"* \" * i + \"    \" * (n - i) + \" *\" * i)\n"
   ]
  },
  {
   "cell_type": "code",
   "execution_count": 7,
   "metadata": {},
   "outputs": [
    {
     "name": "stdout",
     "output_type": "stream",
     "text": [
      "Enter the Value of N: 4\n",
      "4*4*4*4\n",
      "3*3*3\n",
      "2*2\n",
      "1\n",
      "2*2\n",
      "3*3*3\n",
      "4*4*4*4\n"
     ]
    }
   ],
   "source": [
    "N = int(input(\"Enter the Value of N: \"))\n",
    "for i in range(N):\n",
    "    print((str(N - i) + \"*\") * (N - 1 - i) + str(N - i))\n",
    "for i in range(2,N + 1):\n",
    "    print((str(i) + \"*\") * (i - 1) + str(i))\n",
    "    "
   ]
  },
  {
   "cell_type": "code",
   "execution_count": null,
   "metadata": {},
   "outputs": [],
   "source": []
  }
 ],
 "metadata": {
  "kernelspec": {
   "display_name": "Python 3",
   "language": "python",
   "name": "python3"
  },
  "language_info": {
   "codemirror_mode": {
    "name": "ipython",
    "version": 3
   },
   "file_extension": ".py",
   "mimetype": "text/x-python",
   "name": "python",
   "nbconvert_exporter": "python",
   "pygments_lexer": "ipython3",
   "version": "3.7.3"
  }
 },
 "nbformat": 4,
 "nbformat_minor": 2
}
