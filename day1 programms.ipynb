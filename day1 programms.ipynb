{
 "cells": [
  {
   "cell_type": "code",
   "execution_count": 1,
   "metadata": {},
   "outputs": [
    {
     "name": "stdout",
     "output_type": "stream",
     "text": [
      "Enter your Name: subbu\n",
      "Tell me your Branch: cse\n",
      "What is your Gender: male\n",
      "What's your College Name: narayaana\n",
      "Enter your Age: 23\n",
      "Name: subbu\n",
      "Branch: cse\n",
      "Gender: male\n",
      "College Name: narayaana\n",
      "Age: 23\n"
     ]
    }
   ],
   "source": [
    "name = input(\"Enter your Name: \")\n",
    "branch = input(\"Tell me your Branch: \")\n",
    "gender = input(\"What is your Gender: \")\n",
    "collegeName = input(\"What's your College Name: \")\n",
    "age = int(input(\"Enter your Age: \"))\n",
    "print(\"Name:\",name)\n",
    "print(\"Branch:\",branch)\n",
    "print(\"Gender:\",gender)\n",
    "print(\"College Name:\",collegeName)\n",
    "print(\"Age:\",age)"
   ]
  },
  {
   "cell_type": "code",
   "execution_count": 2,
   "metadata": {},
   "outputs": [
    {
     "name": "stdout",
     "output_type": "stream",
     "text": [
      "Enter the number: 5\n",
      "Square root of 5.0 is 2.23606797749979\n"
     ]
    }
   ],
   "source": [
    "number = float(input(\"Enter the number: \"))\n",
    "sqrt = number ** 0.5\n",
    "print(\"Square root of\", number ,\"is\", sqrt)"
   ]
  },
  {
   "cell_type": "code",
   "execution_count": 3,
   "metadata": {},
   "outputs": [
    {
     "name": "stdout",
     "output_type": "stream",
     "text": [
      "Enter the value of a: 5\n",
      "Enter the value of b: 8\n",
      "After Swaping\n",
      "Value of a = 8\n",
      "Value of b = 5\n"
     ]
    }
   ],
   "source": [
    "a = int(input(\"Enter the value of a: \")) # 5\n",
    "b = int(input(\"Enter the value of b: \")) # 6\n",
    "a = a + b # a = 11, b = 6\n",
    "b = a - b # b = 5\n",
    "a = a - b # a = 6\n",
    "print(\"After Swaping\")\n",
    "print(\"Value of a =\", a)\n",
    "print(\"Value of b =\", b)\n"
   ]
  },
  {
   "cell_type": "code",
   "execution_count": 4,
   "metadata": {},
   "outputs": [
    {
     "name": "stdout",
     "output_type": "stream",
     "text": [
      "Enter the cost price of the product: 4\n",
      "Enter the sell price of the product: 5\n",
      "The profit from this sell is 1.0\n",
      "To increase the profit by 5% the selling price should be 5.05\n"
     ]
    }
   ],
   "source": [
    "costPrice = float(input(\"Enter the cost price of the product: \"))\n",
    "sellPrice = float(input(\"Enter the sell price of the product: \"))\n",
    "profit = sellPrice - costPrice\n",
    "newSellingPrice = 1.05 * profit + costPrice\n",
    "print(\"The profit from this sell is\", profit)\n",
    "print(\"To increase the profit by 5% the selling price should be\", newSellingPrice)\n"
   ]
  },
  {
   "cell_type": "code",
   "execution_count": 5,
   "metadata": {},
   "outputs": [
    {
     "name": "stdout",
     "output_type": "stream",
     "text": [
      "Enter the cost price of the product: 54\n",
      "Enter the sell price of the product: 88\n",
      "The profit from this sell is 34.0\n",
      "To increase the profit by 5% the selling price should be 89.7\n"
     ]
    }
   ],
   "source": [
    "costPrice = float(input(\"Enter the cost price of the product: \"))\n",
    "sellPrice = float(input(\"Enter the sell price of the product: \"))\n",
    "profit = sellPrice - costPrice\n",
    "newSellingPrice = 1.05 * profit + costPrice\n",
    "print(\"The profit from this sell is\", profit)\n",
    "print(\"To increase the profit by 5% the selling price should be\", newSellingPrice)"
   ]
  },
  {
   "cell_type": "code",
   "execution_count": null,
   "metadata": {},
   "outputs": [],
   "source": []
  }
 ],
 "metadata": {
  "kernelspec": {
   "display_name": "Python 3",
   "language": "python",
   "name": "python3"
  },
  "language_info": {
   "codemirror_mode": {
    "name": "ipython",
    "version": 3
   },
   "file_extension": ".py",
   "mimetype": "text/x-python",
   "name": "python",
   "nbconvert_exporter": "python",
   "pygments_lexer": "ipython3",
   "version": "3.7.3"
  }
 },
 "nbformat": 4,
 "nbformat_minor": 2
}
