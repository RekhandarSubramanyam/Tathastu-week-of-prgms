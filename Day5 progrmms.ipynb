{
 "cells": [
  {
   "cell_type": "code",
   "execution_count": 1,
   "metadata": {},
   "outputs": [
    {
     "name": "stdout",
     "output_type": "stream",
     "text": [
      "Enter the number you want to check: 5\n",
      "The number after replacing all 0 with 5 will be 5\n"
     ]
    }
   ],
   "source": [
    "def replace_0_with_5(number):\n",
    "    return int(str(number).replace('0','5'))\n",
    "number = int(input(\"Enter the number you want to check: \"))\n",
    "print(\"The number after replacing all 0 with 5 will be\", replace_0_with_5(number))\n",
    "\n"
   ]
  },
  {
   "cell_type": "code",
   "execution_count": 2,
   "metadata": {},
   "outputs": [
    {
     "name": "stdout",
     "output_type": "stream",
     "text": [
      "Enter the size of the list: 5\n",
      "Enter the element number 1 in the List: 8\n",
      "Enter the element number 2 in the List: 4\n",
      "Enter the element number 3 in the List: 5\n",
      "Enter the element number 4 in the List: 6\n",
      "Enter the element number 5 in the List: 5\n",
      "The list after replacing every element with greatest element on right side is:  [6, 6, 6, 5, 5]\n"
     ]
    }
   ],
   "source": [
    "def replaceGreatestInteger(List):\n",
    "    for i in range(size-1):\n",
    "        List[i] = max(List[i+1:])\n",
    "    return List\n",
    "size = int(input(\"Enter the size of the list: \"))\n",
    "List = []\n",
    "for i in range(size):\n",
    "    List.append(int(input(\"Enter the element number \" + str(i+1) + \" in the List: \")))\n",
    "print(\"The list after replacing every element with greatest element on right side is: \", replaceGreatestInteger(List))\n"
   ]
  },
  {
   "cell_type": "code",
   "execution_count": 3,
   "metadata": {},
   "outputs": [
    {
     "name": "stdout",
     "output_type": "stream",
     "text": [
      "Enter the number of Houses in a line: 5\n",
      "Enter the value in the House number 1: 1\n",
      "Enter the value in the House number 2: 5\n",
      "Enter the value in the House number 3: 8\n",
      "Enter the value in the House number 4: 6\n",
      "Enter the value in the House number 5: 8\n",
      "The maximum stolen value from Houses is 17\n"
     ]
    }
   ],
   "source": [
    "def House(List):\n",
    "    if len(List) == 2:\n",
    "        return max(List)\n",
    "    if len(List) == 1:\n",
    "        return List[0]\n",
    "    if len(List) == 3:\n",
    "        return max(List[1], List[0] + House(List[2:]))\n",
    "    return max(List[1] + House(List[3:]), List[0] + House(List[2:]))\n",
    "size = int(input(\"Enter the number of Houses in a line: \"))\n",
    "List = []\n",
    "for i in range(size):\n",
    "    List.append(int(input(\"Enter the value in the House number \" + str(i + 1) + \": \")))\n",
    "print(\"The maximum stolen value from Houses is\", House(List))\n"
   ]
  },
  {
   "cell_type": "code",
   "execution_count": 5,
   "metadata": {},
   "outputs": [
    {
     "name": "stdout",
     "output_type": "stream",
     "text": [
      "Enter the number of items you want to enter: 8\n",
      "Enter the weight for item number 1: 2\n",
      "Enter the value for item number 1: 3\n",
      "Enter the weight for item number 2: 4\n",
      "Enter the value for item number 2: 6\n",
      "Enter the weight for item number 3: 7\n",
      "Enter the value for item number 3: 2\n",
      "Enter the weight for item number 4: 6\n",
      "Enter the value for item number 4: 4\n",
      "Enter the weight for item number 5: 3\n",
      "Enter the value for item number 5: 4\n",
      "Enter the weight for item number 6: 5\n",
      "Enter the value for item number 6: 6\n",
      "Enter the weight for item number 7: 6\n",
      "Enter the value for item number 7: 2\n",
      "Enter the weight for item number 8: 1\n",
      "Enter the value for item number 8: 3\n",
      "Enter the value of weight capacity: 5\n"
     ]
    },
    {
     "ename": "TypeError",
     "evalue": "knapsack() missing 1 required positional argument: 'List'",
     "output_type": "error",
     "traceback": [
      "\u001b[1;31m---------------------------------------------------------------------------\u001b[0m",
      "\u001b[1;31mTypeError\u001b[0m                                 Traceback (most recent call last)",
      "\u001b[1;32m<ipython-input-5-0fd8f26acee6>\u001b[0m in \u001b[0;36m<module>\u001b[1;34m\u001b[0m\n\u001b[0;32m     16\u001b[0m     \u001b[0mList\u001b[0m\u001b[1;33m.\u001b[0m\u001b[0mappend\u001b[0m\u001b[1;33m(\u001b[0m\u001b[1;33m(\u001b[0m\u001b[0mweight\u001b[0m\u001b[1;33m,\u001b[0m\u001b[0mvalue\u001b[0m\u001b[1;33m)\u001b[0m\u001b[1;33m)\u001b[0m\u001b[1;33m\u001b[0m\u001b[1;33m\u001b[0m\u001b[0m\n\u001b[0;32m     17\u001b[0m \u001b[0mweight\u001b[0m \u001b[1;33m=\u001b[0m \u001b[0mint\u001b[0m\u001b[1;33m(\u001b[0m\u001b[0minput\u001b[0m\u001b[1;33m(\u001b[0m\u001b[1;34m\"Enter the value of weight capacity: \"\u001b[0m\u001b[1;33m)\u001b[0m\u001b[1;33m)\u001b[0m\u001b[1;33m\u001b[0m\u001b[1;33m\u001b[0m\u001b[0m\n\u001b[1;32m---> 18\u001b[1;33m \u001b[0mprint\u001b[0m\u001b[1;33m(\u001b[0m\u001b[1;34m\"The maximum value for the given weight value pair is \"\u001b[0m\u001b[1;33m,\u001b[0m \u001b[0mknapsack\u001b[0m\u001b[1;33m(\u001b[0m\u001b[0mweight\u001b[0m\u001b[1;33m,\u001b[0m \u001b[0mList\u001b[0m\u001b[1;33m)\u001b[0m\u001b[1;33m)\u001b[0m\u001b[1;33m\u001b[0m\u001b[1;33m\u001b[0m\u001b[0m\n\u001b[0m",
      "\u001b[1;32m<ipython-input-5-0fd8f26acee6>\u001b[0m in \u001b[0;36mknapsack\u001b[1;34m(weight, List)\u001b[0m\n\u001b[0;32m      8\u001b[0m     \u001b[1;32mif\u001b[0m \u001b[0mList\u001b[0m\u001b[1;33m[\u001b[0m\u001b[1;36m0\u001b[0m\u001b[1;33m]\u001b[0m\u001b[1;33m[\u001b[0m\u001b[1;36m0\u001b[0m\u001b[1;33m]\u001b[0m \u001b[1;33m>\u001b[0m \u001b[0mweight\u001b[0m\u001b[1;33m:\u001b[0m\u001b[1;33m\u001b[0m\u001b[1;33m\u001b[0m\u001b[0m\n\u001b[0;32m      9\u001b[0m         \u001b[1;32mreturn\u001b[0m \u001b[0mknapsack\u001b[0m\u001b[1;33m(\u001b[0m\u001b[1;33m(\u001b[0m\u001b[0mweight\u001b[0m\u001b[1;33m,\u001b[0m \u001b[0mList\u001b[0m\u001b[1;33m[\u001b[0m\u001b[1;36m1\u001b[0m\u001b[1;33m:\u001b[0m\u001b[1;33m]\u001b[0m\u001b[1;33m)\u001b[0m\u001b[1;33m)\u001b[0m\u001b[1;33m\u001b[0m\u001b[1;33m\u001b[0m\u001b[0m\n\u001b[1;32m---> 10\u001b[1;33m     \u001b[1;32mreturn\u001b[0m \u001b[0mmax\u001b[0m\u001b[1;33m(\u001b[0m\u001b[0mList\u001b[0m\u001b[1;33m[\u001b[0m\u001b[1;36m0\u001b[0m\u001b[1;33m]\u001b[0m\u001b[1;33m[\u001b[0m\u001b[1;36m1\u001b[0m\u001b[1;33m]\u001b[0m \u001b[1;33m+\u001b[0m \u001b[0mknapsack\u001b[0m\u001b[1;33m(\u001b[0m\u001b[0mweight\u001b[0m \u001b[1;33m-\u001b[0m \u001b[0mList\u001b[0m\u001b[1;33m[\u001b[0m\u001b[1;36m0\u001b[0m\u001b[1;33m]\u001b[0m\u001b[1;33m[\u001b[0m\u001b[1;36m0\u001b[0m\u001b[1;33m]\u001b[0m\u001b[1;33m,\u001b[0m \u001b[0mList\u001b[0m\u001b[1;33m[\u001b[0m\u001b[1;36m1\u001b[0m\u001b[1;33m:\u001b[0m\u001b[1;33m]\u001b[0m\u001b[1;33m)\u001b[0m\u001b[1;33m,\u001b[0m \u001b[0mknapsack\u001b[0m\u001b[1;33m(\u001b[0m\u001b[0mweight\u001b[0m\u001b[1;33m,\u001b[0m \u001b[0mList\u001b[0m\u001b[1;33m[\u001b[0m\u001b[1;36m1\u001b[0m\u001b[1;33m:\u001b[0m\u001b[1;33m]\u001b[0m\u001b[1;33m)\u001b[0m\u001b[1;33m)\u001b[0m\u001b[1;33m\u001b[0m\u001b[1;33m\u001b[0m\u001b[0m\n\u001b[0m\u001b[0;32m     11\u001b[0m \u001b[0msize\u001b[0m \u001b[1;33m=\u001b[0m  \u001b[0mint\u001b[0m\u001b[1;33m(\u001b[0m\u001b[0minput\u001b[0m\u001b[1;33m(\u001b[0m\u001b[1;34m\"Enter the number of items you want to enter: \"\u001b[0m\u001b[1;33m)\u001b[0m\u001b[1;33m)\u001b[0m\u001b[1;33m\u001b[0m\u001b[1;33m\u001b[0m\u001b[0m\n\u001b[0;32m     12\u001b[0m \u001b[0mList\u001b[0m \u001b[1;33m=\u001b[0m \u001b[1;33m[\u001b[0m\u001b[1;33m]\u001b[0m\u001b[1;33m\u001b[0m\u001b[1;33m\u001b[0m\u001b[0m\n",
      "\u001b[1;32m<ipython-input-5-0fd8f26acee6>\u001b[0m in \u001b[0;36mknapsack\u001b[1;34m(weight, List)\u001b[0m\n\u001b[0;32m      7\u001b[0m         \u001b[1;32mreturn\u001b[0m \u001b[0mList\u001b[0m\u001b[1;33m[\u001b[0m\u001b[1;36m0\u001b[0m\u001b[1;33m]\u001b[0m\u001b[1;33m[\u001b[0m\u001b[1;36m1\u001b[0m\u001b[1;33m]\u001b[0m\u001b[1;33m\u001b[0m\u001b[1;33m\u001b[0m\u001b[0m\n\u001b[0;32m      8\u001b[0m     \u001b[1;32mif\u001b[0m \u001b[0mList\u001b[0m\u001b[1;33m[\u001b[0m\u001b[1;36m0\u001b[0m\u001b[1;33m]\u001b[0m\u001b[1;33m[\u001b[0m\u001b[1;36m0\u001b[0m\u001b[1;33m]\u001b[0m \u001b[1;33m>\u001b[0m \u001b[0mweight\u001b[0m\u001b[1;33m:\u001b[0m\u001b[1;33m\u001b[0m\u001b[1;33m\u001b[0m\u001b[0m\n\u001b[1;32m----> 9\u001b[1;33m         \u001b[1;32mreturn\u001b[0m \u001b[0mknapsack\u001b[0m\u001b[1;33m(\u001b[0m\u001b[1;33m(\u001b[0m\u001b[0mweight\u001b[0m\u001b[1;33m,\u001b[0m \u001b[0mList\u001b[0m\u001b[1;33m[\u001b[0m\u001b[1;36m1\u001b[0m\u001b[1;33m:\u001b[0m\u001b[1;33m]\u001b[0m\u001b[1;33m)\u001b[0m\u001b[1;33m)\u001b[0m\u001b[1;33m\u001b[0m\u001b[1;33m\u001b[0m\u001b[0m\n\u001b[0m\u001b[0;32m     10\u001b[0m     \u001b[1;32mreturn\u001b[0m \u001b[0mmax\u001b[0m\u001b[1;33m(\u001b[0m\u001b[0mList\u001b[0m\u001b[1;33m[\u001b[0m\u001b[1;36m0\u001b[0m\u001b[1;33m]\u001b[0m\u001b[1;33m[\u001b[0m\u001b[1;36m1\u001b[0m\u001b[1;33m]\u001b[0m \u001b[1;33m+\u001b[0m \u001b[0mknapsack\u001b[0m\u001b[1;33m(\u001b[0m\u001b[0mweight\u001b[0m \u001b[1;33m-\u001b[0m \u001b[0mList\u001b[0m\u001b[1;33m[\u001b[0m\u001b[1;36m0\u001b[0m\u001b[1;33m]\u001b[0m\u001b[1;33m[\u001b[0m\u001b[1;36m0\u001b[0m\u001b[1;33m]\u001b[0m\u001b[1;33m,\u001b[0m \u001b[0mList\u001b[0m\u001b[1;33m[\u001b[0m\u001b[1;36m1\u001b[0m\u001b[1;33m:\u001b[0m\u001b[1;33m]\u001b[0m\u001b[1;33m)\u001b[0m\u001b[1;33m,\u001b[0m \u001b[0mknapsack\u001b[0m\u001b[1;33m(\u001b[0m\u001b[0mweight\u001b[0m\u001b[1;33m,\u001b[0m \u001b[0mList\u001b[0m\u001b[1;33m[\u001b[0m\u001b[1;36m1\u001b[0m\u001b[1;33m:\u001b[0m\u001b[1;33m]\u001b[0m\u001b[1;33m)\u001b[0m\u001b[1;33m)\u001b[0m\u001b[1;33m\u001b[0m\u001b[1;33m\u001b[0m\u001b[0m\n\u001b[0;32m     11\u001b[0m \u001b[0msize\u001b[0m \u001b[1;33m=\u001b[0m  \u001b[0mint\u001b[0m\u001b[1;33m(\u001b[0m\u001b[0minput\u001b[0m\u001b[1;33m(\u001b[0m\u001b[1;34m\"Enter the number of items you want to enter: \"\u001b[0m\u001b[1;33m)\u001b[0m\u001b[1;33m)\u001b[0m\u001b[1;33m\u001b[0m\u001b[1;33m\u001b[0m\u001b[0m\n",
      "\u001b[1;31mTypeError\u001b[0m: knapsack() missing 1 required positional argument: 'List'"
     ]
    }
   ],
   "source": [
    "def knapsack(weight, List):\n",
    "    if weight == 0 or len(List) == 0:\n",
    "        return 0\n",
    "    if len(List) == 1:\n",
    "        if List[0][0] > weight:\n",
    "            return 0 \n",
    "        return List[0][1]  \n",
    "    if List[0][0] > weight:\n",
    "        return knapsack((weight, List[1:]))\n",
    "    return max(List[0][1] + knapsack(weight - List[0][0], List[1:]), knapsack(weight, List[1:]))\n",
    "size =  int(input(\"Enter the number of items you want to enter: \"))\n",
    "List = []\n",
    "for i in range(size):\n",
    "    weight = int(input(\"Enter the weight for item number \" + str(i + 1) + \": \"))\n",
    "    value = int(input(\"Enter the value for item number \" + str(i + 1) + \": \"))\n",
    "    List.append((weight,value))\n",
    "weight = int(input(\"Enter the value of weight capacity: \"))\n",
    "print(\"The maximum value for the given weight value pair is \", knapsack(weight, List))"
   ]
  },
  {
   "cell_type": "code",
   "execution_count": 6,
   "metadata": {},
   "outputs": [
    {
     "name": "stdout",
     "output_type": "stream",
     "text": [
      "Enter the number of elements you want to add in the array: 2\n",
      "Enter the element number 1 in the list: 3\n",
      "Enter the element number 2 in the list: 5\n",
      "The list of numbers after sorting them according to given condition is 5, 3\n"
     ]
    }
   ],
   "source": [
    "def sortEvenOdd(List):\n",
    "    odd = []\n",
    "    even = []\n",
    "    for x in List:\n",
    "        if x % 2 == 0:\n",
    "            even.append(x)\n",
    "        else :\n",
    "            odd.append(x)\n",
    "    return sorted(odd, reverse = True) + sorted(even)\n",
    "size = int(input(\"Enter the number of elements you want to add in the array: \"))\n",
    "List = []\n",
    "for i in range(size):\n",
    "    List.append(int(input(\"Enter the element number \" + str(i + 1) + \" in the list: \")))\n",
    "print(\"The list of numbers after sorting them according to given condition is\", str(sortEvenOdd(List))[1:-1])\n"
   ]
  },
  {
   "cell_type": "code",
   "execution_count": null,
   "metadata": {},
   "outputs": [],
   "source": []
  }
 ],
 "metadata": {
  "kernelspec": {
   "display_name": "Python 3",
   "language": "python",
   "name": "python3"
  },
  "language_info": {
   "codemirror_mode": {
    "name": "ipython",
    "version": 3
   },
   "file_extension": ".py",
   "mimetype": "text/x-python",
   "name": "python",
   "nbconvert_exporter": "python",
   "pygments_lexer": "ipython3",
   "version": "3.7.3"
  }
 },
 "nbformat": 4,
 "nbformat_minor": 2
}
