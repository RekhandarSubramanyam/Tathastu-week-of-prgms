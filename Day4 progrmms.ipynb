{
 "cells": [
  {
   "cell_type": "code",
   "execution_count": null,
   "metadata": {},
   "outputs": [
    {
     "name": "stdout",
     "output_type": "stream",
     "text": [
      "Enter the size of tuple: 5\n",
      "Enter the elements in tuple one by one\n",
      "12345\n"
     ]
    }
   ],
   "source": [
    "size = int(input(\"Enter the size of tuple: \"))\n",
    "print(\"Enter the elements in tuple one by one\")\n",
    "arr = []\n",
    "for i in range(size):\n",
    "    arr.append(input())\n",
    "arr = tuple(arr)\n",
    "element = input(\"Enter the element whose occurrences you want to know: \")\n",
    "print(\"Tuple contains the element\", arr.count(element), \"times\")\n"
   ]
  },
  {
   "cell_type": "code",
   "execution_count": null,
   "metadata": {},
   "outputs": [],
   "source": [
    "sizeList = int(input(\"Enter the no of tuples you want to add in the list: \"))\n",
    "sizeTuple = int(input(\"Enter the no of elements you want to add in each tuple: \"))\n",
    "List = []\n",
    "for i in range(sizeList):\n",
    "    print(\"Enter the elements in Tuple\", i + 1)\n",
    "    Tuple = []\n",
    "    for j in range(sizeTuple):\n",
    "        Tuple.append(int(input(\"Enter the element \" + str(j + 1) + \": \")))\n",
    "    List.append(tuple(Tuple))\n",
    "N = int(input(\"Enter the Nth index about which you want to sort the list: \"))\n",
    "List.sort(key = lambda x : x[N])\n",
    "print(\"After sorting tuple List by Nth index sort:\",List)\n"
   ]
  },
  {
   "cell_type": "code",
   "execution_count": null,
   "metadata": {},
   "outputs": [],
   "source": [
    "size = int(input(\"Enter the no of items you want to add in Dictonary: \"))\n",
    "diction = dict()\n",
    "for i in range(size):\n",
    "    key = input(\"Enter the key for item \" + str(i + 1) + \" in dictonary: \")\n",
    "    value = int(input(\"Enter the value for item \" + str(i + 1) + \" in dictonary: \"))\n",
    "    diction[key] = value\n",
    "    \n",
    "print(\"The second largest value in the Dictonary is\", list(sorted(diction.values()))[-2])"
   ]
  },
  {
   "cell_type": "code",
   "execution_count": null,
   "metadata": {},
   "outputs": [],
   "source": [
    "size = int(input(\"Enter the no of items you want to add in Dictonary: \"))\n",
    "diction = dict()\n",
    "for i in range(size):\n",
    "    key = input(\"Enter the key for item \" + str(i + 1) + \" in dictonary: \")\n",
    "    value = int(input(\"Enter the value for item \" + str(i + 1) + \" in dictonary: \"))\n",
    "    diction[key] = value\n",
    "result = dict()\n",
    "for key,value in diction.items():\n",
    "    if value not in result.values():\n",
    "        result[key] = value\n",
    "print(\"Dictonary after removing duplicate values: \", result)\n",
    "\n"
   ]
  },
  {
   "cell_type": "code",
   "execution_count": null,
   "metadata": {},
   "outputs": [],
   "source": [
    "noOfVotes = int(input(\"Enter the no of votes: \"))\n",
    "votes = []\n",
    "for i in range(noOfVotes):\n",
    "    votes.append(input(\"Enter the name of the Candidate to cast the Vote: \"))\n",
    "vote = []\n",
    "for name in votes:\n",
    "    vote.append((name, votes.count(name)))  \n",
    "vote.sort(key = lambda x : x[0], reverse = True )\n",
    "vote.sort(key = lambda x : x[1])\n",
    "print(\"The name of the candidate who won the election is\", vote[-1][0])"
   ]
  },
  {
   "cell_type": "code",
   "execution_count": null,
   "metadata": {},
   "outputs": [],
   "source": [
    "size = int(input(\"Enter the no of words you want to add in dictonary: \"))\n",
    "dict = []\n",
    "for i in range(size):\n",
    "    dict.append(input(\"Enter the word \" + str(i + 1) + \": \"))\n",
    "size = int(input(\"Enter the no of character you want to add in array: \"))\n",
    "array = []\n",
    "result = []\n",
    "print(\"Enter the characters in array one by one \")\n",
    "for i in range(size):\n",
    "    array.append(input())\n",
    "for word in dict: \n",
    "    if set(word).issubset(set(array)):\n",
    "        result.append(word)\n",
    "print(\", \".join(result) + \".\")\n"
   ]
  },
  {
   "cell_type": "code",
   "execution_count": null,
   "metadata": {},
   "outputs": [],
   "source": []
  }
 ],
 "metadata": {
  "kernelspec": {
   "display_name": "Python 3",
   "language": "python",
   "name": "python3"
  },
  "language_info": {
   "codemirror_mode": {
    "name": "ipython",
    "version": 3
   },
   "file_extension": ".py",
   "mimetype": "text/x-python",
   "name": "python",
   "nbconvert_exporter": "python",
   "pygments_lexer": "ipython3",
   "version": "3.7.3"
  }
 },
 "nbformat": 4,
 "nbformat_minor": 2
}
